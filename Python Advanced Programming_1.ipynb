{
 "cells": [
  {
   "cell_type": "code",
   "execution_count": 88,
   "metadata": {},
   "outputs": [],
   "source": [
    "path = r'C:\\Users\\97250\\Desktop\\PythonAdvancedProgramming.xlsx'"
   ]
  },
  {
   "cell_type": "code",
   "execution_count": 89,
   "metadata": {},
   "outputs": [],
   "source": [
    "import pandas as pd"
   ]
  },
  {
   "cell_type": "code",
   "execution_count": 90,
   "metadata": {},
   "outputs": [],
   "source": [
    "data = pd.read_excel(path)"
   ]
  },
  {
   "cell_type": "code",
   "execution_count": 91,
   "metadata": {},
   "outputs": [],
   "source": [
    "data.set_index('ID',inplace=True)"
   ]
  },
  {
   "cell_type": "code",
   "execution_count": 92,
   "metadata": {},
   "outputs": [
    {
     "data": {
      "text/html": [
       "<div>\n",
       "<style scoped>\n",
       "    .dataframe tbody tr th:only-of-type {\n",
       "        vertical-align: middle;\n",
       "    }\n",
       "\n",
       "    .dataframe tbody tr th {\n",
       "        vertical-align: top;\n",
       "    }\n",
       "\n",
       "    .dataframe thead th {\n",
       "        text-align: right;\n",
       "    }\n",
       "</style>\n",
       "<table border=\"1\" class=\"dataframe\">\n",
       "  <thead>\n",
       "    <tr style=\"text-align: right;\">\n",
       "      <th></th>\n",
       "      <th>gender</th>\n",
       "      <th>Java</th>\n",
       "      <th>Python</th>\n",
       "      <th>Math</th>\n",
       "      <th>Physics</th>\n",
       "      <th>region</th>\n",
       "    </tr>\n",
       "    <tr>\n",
       "      <th>ID</th>\n",
       "      <th></th>\n",
       "      <th></th>\n",
       "      <th></th>\n",
       "      <th></th>\n",
       "      <th></th>\n",
       "      <th></th>\n",
       "    </tr>\n",
       "  </thead>\n",
       "  <tbody>\n",
       "    <tr>\n",
       "      <th>1111</th>\n",
       "      <td>male</td>\n",
       "      <td>80</td>\n",
       "      <td>100</td>\n",
       "      <td>80</td>\n",
       "      <td>100</td>\n",
       "      <td>צפון</td>\n",
       "    </tr>\n",
       "    <tr>\n",
       "      <th>2222</th>\n",
       "      <td>male</td>\n",
       "      <td>70</td>\n",
       "      <td>90</td>\n",
       "      <td>70</td>\n",
       "      <td>90</td>\n",
       "      <td>דרום</td>\n",
       "    </tr>\n",
       "    <tr>\n",
       "      <th>3333</th>\n",
       "      <td>male</td>\n",
       "      <td>69</td>\n",
       "      <td>80</td>\n",
       "      <td>69</td>\n",
       "      <td>80</td>\n",
       "      <td>מרכז</td>\n",
       "    </tr>\n",
       "    <tr>\n",
       "      <th>4444</th>\n",
       "      <td>male</td>\n",
       "      <td>68</td>\n",
       "      <td>70</td>\n",
       "      <td>40</td>\n",
       "      <td>99</td>\n",
       "      <td>צפון</td>\n",
       "    </tr>\n",
       "    <tr>\n",
       "      <th>5555</th>\n",
       "      <td>male</td>\n",
       "      <td>45</td>\n",
       "      <td>80</td>\n",
       "      <td>92</td>\n",
       "      <td>58</td>\n",
       "      <td>דרום</td>\n",
       "    </tr>\n",
       "    <tr>\n",
       "      <th>6666</th>\n",
       "      <td>female</td>\n",
       "      <td>52</td>\n",
       "      <td>70</td>\n",
       "      <td>98</td>\n",
       "      <td>45</td>\n",
       "      <td>מרכז</td>\n",
       "    </tr>\n",
       "    <tr>\n",
       "      <th>7777</th>\n",
       "      <td>female</td>\n",
       "      <td>100</td>\n",
       "      <td>69</td>\n",
       "      <td>76</td>\n",
       "      <td>76</td>\n",
       "      <td>צפון</td>\n",
       "    </tr>\n",
       "    <tr>\n",
       "      <th>8888</th>\n",
       "      <td>female</td>\n",
       "      <td>90</td>\n",
       "      <td>68</td>\n",
       "      <td>45</td>\n",
       "      <td>98</td>\n",
       "      <td>דרום</td>\n",
       "    </tr>\n",
       "    <tr>\n",
       "      <th>9999</th>\n",
       "      <td>female</td>\n",
       "      <td>80</td>\n",
       "      <td>45</td>\n",
       "      <td>58</td>\n",
       "      <td>92</td>\n",
       "      <td>מרכז</td>\n",
       "    </tr>\n",
       "    <tr>\n",
       "      <th>9990</th>\n",
       "      <td>female</td>\n",
       "      <td>70</td>\n",
       "      <td>52</td>\n",
       "      <td>99</td>\n",
       "      <td>40</td>\n",
       "      <td>צפון</td>\n",
       "    </tr>\n",
       "  </tbody>\n",
       "</table>\n",
       "</div>"
      ],
      "text/plain": [
       "      gender  Java  Python  Math  Physics region\n",
       "ID                                              \n",
       "1111    male    80     100    80      100   צפון\n",
       "2222    male    70      90    70       90   דרום\n",
       "3333    male    69      80    69       80   מרכז\n",
       "4444    male    68      70    40       99   צפון\n",
       "5555    male    45      80    92       58   דרום\n",
       "6666  female    52      70    98       45   מרכז\n",
       "7777  female   100      69    76       76   צפון\n",
       "8888  female    90      68    45       98   דרום\n",
       "9999  female    80      45    58       92   מרכז\n",
       "9990  female    70      52    99       40   צפון"
      ]
     },
     "execution_count": 92,
     "metadata": {},
     "output_type": "execute_result"
    }
   ],
   "source": [
    "data"
   ]
  },
  {
   "cell_type": "code",
   "execution_count": 93,
   "metadata": {},
   "outputs": [],
   "source": [
    "def agg(colum ,k='mean'):\n",
    "    \"\"\"\n",
    "    Aggregation function.\n",
    "    \"\"\"\n",
    "    agg = data.groupby(colum)\n",
    "   \n",
    "    agg = agg.sum() if k=='sum' else agg.mean() if k=='mean' else agg.count()\n",
    "    \n",
    "    return agg"
   ]
  },
  {
   "cell_type": "code",
   "execution_count": 94,
   "metadata": {},
   "outputs": [
    {
     "data": {
      "text/plain": [
       "Java       72.4\n",
       "Python     72.4\n",
       "Math       72.7\n",
       "Physics    77.8\n",
       "dtype: float64"
      ]
     },
     "execution_count": 94,
     "metadata": {},
     "output_type": "execute_result"
    }
   ],
   "source": [
    "data.mean()"
   ]
  },
  {
   "cell_type": "code",
   "execution_count": 95,
   "metadata": {},
   "outputs": [
    {
     "data": {
      "text/plain": [
       "Java       100\n",
       "Python     100\n",
       "Math        99\n",
       "Physics    100\n",
       "dtype: object"
      ]
     },
     "execution_count": 95,
     "metadata": {},
     "output_type": "execute_result"
    }
   ],
   "source": [
    "data.max()[1:-1]"
   ]
  },
  {
   "cell_type": "code",
   "execution_count": 96,
   "metadata": {},
   "outputs": [
    {
     "data": {
      "text/plain": [
       "Int64Index([5555, 6666], dtype='int64', name='ID')"
      ]
     },
     "execution_count": 96,
     "metadata": {},
     "output_type": "execute_result"
    }
   ],
   "source": [
    "data[data['Java']<59].index"
   ]
  },
  {
   "cell_type": "code",
   "execution_count": 97,
   "metadata": {},
   "outputs": [],
   "source": [
    "data['programming'] = data[['Python','Java']].apply(lambda x : round((x[0]+x[1])/2,3) ,axis=1)"
   ]
  },
  {
   "cell_type": "code",
   "execution_count": 98,
   "metadata": {},
   "outputs": [],
   "source": [
    "maxGrade = data['programming'].sort_values().iloc[-1]"
   ]
  },
  {
   "cell_type": "code",
   "execution_count": 99,
   "metadata": {},
   "outputs": [
    {
     "data": {
      "text/plain": [
       "Int64Index([1111], dtype='int64', name='ID')"
      ]
     },
     "execution_count": 99,
     "metadata": {},
     "output_type": "execute_result"
    }
   ],
   "source": [
    "data[data['programming']==maxGrade].index"
   ]
  },
  {
   "cell_type": "code",
   "execution_count": 100,
   "metadata": {},
   "outputs": [],
   "source": [
    "data['Math-Physics'] = data[['Math','Physics']].apply(lambda x : round((x[0]+x[1])/2,3) ,axis=1)"
   ]
  },
  {
   "cell_type": "code",
   "execution_count": 101,
   "metadata": {},
   "outputs": [],
   "source": [
    "data['WeightedGradeAvg'] = data[['Math-Physics','programming']].apply(lambda x : round((x[0]*0.3+x[1]*0.7),2) ,axis=1)"
   ]
  },
  {
   "cell_type": "code",
   "execution_count": 102,
   "metadata": {},
   "outputs": [
    {
     "data": {
      "text/html": [
       "<div>\n",
       "<style scoped>\n",
       "    .dataframe tbody tr th:only-of-type {\n",
       "        vertical-align: middle;\n",
       "    }\n",
       "\n",
       "    .dataframe tbody tr th {\n",
       "        vertical-align: top;\n",
       "    }\n",
       "\n",
       "    .dataframe thead th {\n",
       "        text-align: right;\n",
       "    }\n",
       "</style>\n",
       "<table border=\"1\" class=\"dataframe\">\n",
       "  <thead>\n",
       "    <tr style=\"text-align: right;\">\n",
       "      <th></th>\n",
       "      <th>gender</th>\n",
       "      <th>Java</th>\n",
       "      <th>Python</th>\n",
       "      <th>Math</th>\n",
       "      <th>Physics</th>\n",
       "      <th>region</th>\n",
       "      <th>programming</th>\n",
       "      <th>Math-Physics</th>\n",
       "      <th>WeightedGradeAvg</th>\n",
       "    </tr>\n",
       "    <tr>\n",
       "      <th>ID</th>\n",
       "      <th></th>\n",
       "      <th></th>\n",
       "      <th></th>\n",
       "      <th></th>\n",
       "      <th></th>\n",
       "      <th></th>\n",
       "      <th></th>\n",
       "      <th></th>\n",
       "      <th></th>\n",
       "    </tr>\n",
       "  </thead>\n",
       "  <tbody>\n",
       "    <tr>\n",
       "      <th>1111</th>\n",
       "      <td>male</td>\n",
       "      <td>80</td>\n",
       "      <td>100</td>\n",
       "      <td>80</td>\n",
       "      <td>100</td>\n",
       "      <td>צפון</td>\n",
       "      <td>90.0</td>\n",
       "      <td>90.0</td>\n",
       "      <td>90.00</td>\n",
       "    </tr>\n",
       "    <tr>\n",
       "      <th>7777</th>\n",
       "      <td>female</td>\n",
       "      <td>100</td>\n",
       "      <td>69</td>\n",
       "      <td>76</td>\n",
       "      <td>76</td>\n",
       "      <td>צפון</td>\n",
       "      <td>84.5</td>\n",
       "      <td>76.0</td>\n",
       "      <td>81.95</td>\n",
       "    </tr>\n",
       "    <tr>\n",
       "      <th>2222</th>\n",
       "      <td>male</td>\n",
       "      <td>70</td>\n",
       "      <td>90</td>\n",
       "      <td>70</td>\n",
       "      <td>90</td>\n",
       "      <td>דרום</td>\n",
       "      <td>80.0</td>\n",
       "      <td>80.0</td>\n",
       "      <td>80.00</td>\n",
       "    </tr>\n",
       "    <tr>\n",
       "      <th>8888</th>\n",
       "      <td>female</td>\n",
       "      <td>90</td>\n",
       "      <td>68</td>\n",
       "      <td>45</td>\n",
       "      <td>98</td>\n",
       "      <td>דרום</td>\n",
       "      <td>79.0</td>\n",
       "      <td>71.5</td>\n",
       "      <td>76.75</td>\n",
       "    </tr>\n",
       "    <tr>\n",
       "      <th>3333</th>\n",
       "      <td>male</td>\n",
       "      <td>69</td>\n",
       "      <td>80</td>\n",
       "      <td>69</td>\n",
       "      <td>80</td>\n",
       "      <td>מרכז</td>\n",
       "      <td>74.5</td>\n",
       "      <td>74.5</td>\n",
       "      <td>74.50</td>\n",
       "    </tr>\n",
       "    <tr>\n",
       "      <th>4444</th>\n",
       "      <td>male</td>\n",
       "      <td>68</td>\n",
       "      <td>70</td>\n",
       "      <td>40</td>\n",
       "      <td>99</td>\n",
       "      <td>צפון</td>\n",
       "      <td>69.0</td>\n",
       "      <td>69.5</td>\n",
       "      <td>69.15</td>\n",
       "    </tr>\n",
       "    <tr>\n",
       "      <th>5555</th>\n",
       "      <td>male</td>\n",
       "      <td>45</td>\n",
       "      <td>80</td>\n",
       "      <td>92</td>\n",
       "      <td>58</td>\n",
       "      <td>דרום</td>\n",
       "      <td>62.5</td>\n",
       "      <td>75.0</td>\n",
       "      <td>66.25</td>\n",
       "    </tr>\n",
       "    <tr>\n",
       "      <th>9999</th>\n",
       "      <td>female</td>\n",
       "      <td>80</td>\n",
       "      <td>45</td>\n",
       "      <td>58</td>\n",
       "      <td>92</td>\n",
       "      <td>מרכז</td>\n",
       "      <td>62.5</td>\n",
       "      <td>75.0</td>\n",
       "      <td>66.25</td>\n",
       "    </tr>\n",
       "    <tr>\n",
       "      <th>6666</th>\n",
       "      <td>female</td>\n",
       "      <td>52</td>\n",
       "      <td>70</td>\n",
       "      <td>98</td>\n",
       "      <td>45</td>\n",
       "      <td>מרכז</td>\n",
       "      <td>61.0</td>\n",
       "      <td>71.5</td>\n",
       "      <td>64.15</td>\n",
       "    </tr>\n",
       "    <tr>\n",
       "      <th>9990</th>\n",
       "      <td>female</td>\n",
       "      <td>70</td>\n",
       "      <td>52</td>\n",
       "      <td>99</td>\n",
       "      <td>40</td>\n",
       "      <td>צפון</td>\n",
       "      <td>61.0</td>\n",
       "      <td>69.5</td>\n",
       "      <td>63.55</td>\n",
       "    </tr>\n",
       "  </tbody>\n",
       "</table>\n",
       "</div>"
      ],
      "text/plain": [
       "      gender  Java  Python  Math  Physics region  programming  Math-Physics  \\\n",
       "ID                                                                            \n",
       "1111    male    80     100    80      100   צפון         90.0          90.0   \n",
       "7777  female   100      69    76       76   צפון         84.5          76.0   \n",
       "2222    male    70      90    70       90   דרום         80.0          80.0   \n",
       "8888  female    90      68    45       98   דרום         79.0          71.5   \n",
       "3333    male    69      80    69       80   מרכז         74.5          74.5   \n",
       "4444    male    68      70    40       99   צפון         69.0          69.5   \n",
       "5555    male    45      80    92       58   דרום         62.5          75.0   \n",
       "9999  female    80      45    58       92   מרכז         62.5          75.0   \n",
       "6666  female    52      70    98       45   מרכז         61.0          71.5   \n",
       "9990  female    70      52    99       40   צפון         61.0          69.5   \n",
       "\n",
       "      WeightedGradeAvg  \n",
       "ID                      \n",
       "1111             90.00  \n",
       "7777             81.95  \n",
       "2222             80.00  \n",
       "8888             76.75  \n",
       "3333             74.50  \n",
       "4444             69.15  \n",
       "5555             66.25  \n",
       "9999             66.25  \n",
       "6666             64.15  \n",
       "9990             63.55  "
      ]
     },
     "execution_count": 102,
     "metadata": {},
     "output_type": "execute_result"
    }
   ],
   "source": [
    "data.sort_values(by = 'WeightedGradeAvg',ascending=False)"
   ]
  },
  {
   "cell_type": "code",
   "execution_count": 103,
   "metadata": {},
   "outputs": [
    {
     "data": {
      "text/plain": [
       "Int64Index([8888], dtype='int64', name='ID')"
      ]
     },
     "execution_count": 103,
     "metadata": {},
     "output_type": "execute_result"
    }
   ],
   "source": [
    "data[(data['Java']>80) & (data['Math']<70)].index"
   ]
  },
  {
   "cell_type": "code",
   "execution_count": 104,
   "metadata": {},
   "outputs": [],
   "source": [
    "import numpy as np"
   ]
  },
  {
   "cell_type": "code",
   "execution_count": 110,
   "metadata": {},
   "outputs": [],
   "source": [
    "data['GradeAVG'] = data[['Math-Physics','programming']].apply(lambda x : round((x[0]+x[1])/2,2) ,axis=1)"
   ]
  },
  {
   "cell_type": "code",
   "execution_count": 114,
   "metadata": {},
   "outputs": [
    {
     "data": {
      "text/plain": [
       "region\n",
       "דרום    74.666667\n",
       "מרכז    69.833333\n",
       "צפון    76.187500\n",
       "Name: GradeAVG, dtype: float64"
      ]
     },
     "execution_count": 114,
     "metadata": {},
     "output_type": "execute_result"
    }
   ],
   "source": [
    "agg('region')['GradeAVG']"
   ]
  },
  {
   "cell_type": "code",
   "execution_count": 115,
   "metadata": {},
   "outputs": [
    {
     "data": {
      "text/plain": [
       "gender\n",
       "female    71.15\n",
       "male      76.50\n",
       "Name: GradeAVG, dtype: float64"
      ]
     },
     "execution_count": 115,
     "metadata": {},
     "output_type": "execute_result"
    }
   ],
   "source": [
    "agg('gender')['GradeAVG']"
   ]
  },
  {
   "cell_type": "code",
   "execution_count": 116,
   "metadata": {},
   "outputs": [],
   "source": [
    "#  The *males* have higher Grade-AVG.(It's Info-Sys after all...)"
   ]
  },
  {
   "cell_type": "code",
   "execution_count": null,
   "metadata": {},
   "outputs": [],
   "source": []
  }
 ],
 "metadata": {
  "kernelspec": {
   "display_name": "Python 3",
   "language": "python",
   "name": "python3"
  },
  "language_info": {
   "codemirror_mode": {
    "name": "ipython",
    "version": 3
   },
   "file_extension": ".py",
   "mimetype": "text/x-python",
   "name": "python",
   "nbconvert_exporter": "python",
   "pygments_lexer": "ipython3",
   "version": "3.8.3"
  }
 },
 "nbformat": 4,
 "nbformat_minor": 4
}
