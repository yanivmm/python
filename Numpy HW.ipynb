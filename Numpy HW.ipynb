{
 "cells": [
  {
   "cell_type": "code",
   "execution_count": 70,
   "metadata": {},
   "outputs": [],
   "source": [
    "import numpy as np"
   ]
  },
  {
   "cell_type": "markdown",
   "metadata": {},
   "source": [
    "# Q1"
   ]
  },
  {
   "cell_type": "code",
   "execution_count": 71,
   "metadata": {},
   "outputs": [],
   "source": [
    "B = np.matrix([[1, 2,-3], [3, 4,-1]])\n",
    "A = np.matrix([[2,5,-1] , [1 ,4 ,5], [2 ,-1 ,6]])\n",
    "y =           [2, -4, 1]\n",
    "z =           [-15, -8, -22]"
   ]
  },
  {
   "cell_type": "code",
   "execution_count": 72,
   "metadata": {},
   "outputs": [
    {
     "data": {
      "text/plain": [
       "matrix([[-2, 16, -9],\n",
       "        [ 8, 32, 11]])"
      ]
     },
     "execution_count": 72,
     "metadata": {},
     "output_type": "execute_result"
    }
   ],
   "source": [
    "np.matmul(B, A)"
   ]
  },
  {
   "cell_type": "code",
   "execution_count": 73,
   "metadata": {},
   "outputs": [
    {
     "data": {
      "text/plain": [
       "matrix([[ 15,  27],\n",
       "        [ -6,  14],\n",
       "        [-18,  -4]])"
      ]
     },
     "execution_count": 73,
     "metadata": {},
     "output_type": "execute_result"
    }
   ],
   "source": [
    "np.matmul(A ,B.transpose())"
   ]
  },
  {
   "cell_type": "code",
   "execution_count": 74,
   "metadata": {},
   "outputs": [
    {
     "data": {
      "text/plain": [
       "matrix([[-17,  -9,  14]])"
      ]
     },
     "execution_count": 74,
     "metadata": {},
     "output_type": "execute_result"
    }
   ],
   "source": [
    "np.matmul(A,y)"
   ]
  },
  {
   "cell_type": "code",
   "execution_count": 75,
   "metadata": {},
   "outputs": [
    {
     "data": {
      "text/plain": [
       "-20"
      ]
     },
     "execution_count": 75,
     "metadata": {},
     "output_type": "execute_result"
    }
   ],
   "source": [
    "np.dot(y,z)"
   ]
  },
  {
   "cell_type": "markdown",
   "metadata": {},
   "source": [
    "# Q2"
   ]
  },
  {
   "cell_type": "code",
   "execution_count": 100,
   "metadata": {},
   "outputs": [
    {
     "name": "stdout",
     "output_type": "stream",
     "text": [
      "[[ 1  2 -3]]\n",
      "[[ 3  4 -1]]\n"
     ]
    }
   ],
   "source": [
    "#rows\n",
    "def print_rows(B):\n",
    "    for i in B:\n",
    "        print(i)\n",
    "        \n",
    "print_rows(B)"
   ]
  },
  {
   "cell_type": "code",
   "execution_count": 101,
   "metadata": {},
   "outputs": [
    {
     "data": {
      "text/plain": [
       "(2, 3)"
      ]
     },
     "execution_count": 101,
     "metadata": {},
     "output_type": "execute_result"
    }
   ],
   "source": [
    "B.shape"
   ]
  },
  {
   "cell_type": "code",
   "execution_count": 102,
   "metadata": {},
   "outputs": [
    {
     "name": "stdout",
     "output_type": "stream",
     "text": [
      "[[1]\n",
      " [3]]\n",
      "[[2]\n",
      " [4]]\n",
      "[[-3]\n",
      " [-1]]\n"
     ]
    }
   ],
   "source": [
    "#columns\n",
    "def print_cols(B):\n",
    "    for i in range((B.shape[1])):\n",
    "        print(B[:,i])\n",
    "\n",
    "print_cols(B)"
   ]
  },
  {
   "cell_type": "markdown",
   "metadata": {},
   "source": [
    "# Q3"
   ]
  },
  {
   "cell_type": "code",
   "execution_count": 79,
   "metadata": {},
   "outputs": [],
   "source": [
    "foo = np.arange(0,30)"
   ]
  },
  {
   "cell_type": "code",
   "execution_count": 80,
   "metadata": {},
   "outputs": [
    {
     "data": {
      "text/plain": [
       "(30,)"
      ]
     },
     "execution_count": 80,
     "metadata": {},
     "output_type": "execute_result"
    }
   ],
   "source": [
    "foo.shape"
   ]
  },
  {
   "cell_type": "code",
   "execution_count": 81,
   "metadata": {},
   "outputs": [],
   "source": [
    "bar = foo.reshape((15,2))"
   ]
  },
  {
   "cell_type": "code",
   "execution_count": 82,
   "metadata": {},
   "outputs": [
    {
     "data": {
      "text/plain": [
       "array([[ 0,  1],\n",
       "       [ 2,  3],\n",
       "       [ 4,  5],\n",
       "       [ 6,  7],\n",
       "       [ 8,  9],\n",
       "       [10, 11],\n",
       "       [12, 13],\n",
       "       [14, 15],\n",
       "       [16, 17],\n",
       "       [18, 19],\n",
       "       [20, 21],\n",
       "       [22, 23],\n",
       "       [24, 25],\n",
       "       [26, 27],\n",
       "       [28, 29]])"
      ]
     },
     "execution_count": 82,
     "metadata": {},
     "output_type": "execute_result"
    }
   ],
   "source": [
    "bar"
   ]
  },
  {
   "cell_type": "code",
   "execution_count": 83,
   "metadata": {},
   "outputs": [],
   "source": [
    "bar[1][0] = -1"
   ]
  },
  {
   "cell_type": "code",
   "execution_count": 84,
   "metadata": {},
   "outputs": [
    {
     "data": {
      "text/plain": [
       "array([ 0,  1, -1,  3,  4,  5,  6,  7,  8,  9, 10, 11, 12, 13, 14, 15, 16,\n",
       "       17, 18, 19, 20, 21, 22, 23, 24, 25, 26, 27, 28, 29])"
      ]
     },
     "execution_count": 84,
     "metadata": {},
     "output_type": "execute_result"
    }
   ],
   "source": [
    "foo"
   ]
  },
  {
   "cell_type": "code",
   "execution_count": 103,
   "metadata": {},
   "outputs": [
    {
     "data": {
      "text/plain": [
       "432"
      ]
     },
     "execution_count": 103,
     "metadata": {},
     "output_type": "execute_result"
    }
   ],
   "source": [
    "# Total sum\n",
    "sum(sum(bar))"
   ]
  },
  {
   "cell_type": "code",
   "execution_count": 104,
   "metadata": {},
   "outputs": [
    {
     "data": {
      "text/plain": [
       "array([207, 225])"
      ]
     },
     "execution_count": 104,
     "metadata": {},
     "output_type": "execute_result"
    }
   ],
   "source": [
    "# Columns sum\n",
    "sum(bar)"
   ]
  },
  {
   "cell_type": "code",
   "execution_count": 105,
   "metadata": {},
   "outputs": [
    {
     "name": "stdout",
     "output_type": "stream",
     "text": [
      "1\n",
      "2\n",
      "9\n",
      "13\n",
      "17\n",
      "21\n",
      "25\n",
      "29\n",
      "33\n",
      "37\n",
      "41\n",
      "45\n",
      "49\n",
      "53\n",
      "57\n"
     ]
    }
   ],
   "source": [
    "# Rows sum\n",
    "for i in bar:\n",
    "    print(sum(i))"
   ]
  },
  {
   "cell_type": "markdown",
   "metadata": {},
   "source": [
    "# Q4"
   ]
  },
  {
   "cell_type": "code",
   "execution_count": 151,
   "metadata": {},
   "outputs": [],
   "source": [
    "intMat = np.arange(0,100).reshape((10,10))"
   ]
  },
  {
   "cell_type": "code",
   "execution_count": 152,
   "metadata": {},
   "outputs": [
    {
     "data": {
      "text/plain": [
       "array([[ 0,  1,  2,  3,  4,  5,  6,  7,  8,  9],\n",
       "       [10, 11, 12, 13, 14, 15, 16, 17, 18, 19],\n",
       "       [20, 21, 22, 23, 24, 25, 26, 27, 28, 29],\n",
       "       [30, 31, 32, 33, 34, 35, 36, 37, 38, 39],\n",
       "       [40, 41, 42, 43, 44, 45, 46, 47, 48, 49],\n",
       "       [50, 51, 52, 53, 54, 55, 56, 57, 58, 59],\n",
       "       [60, 61, 62, 63, 64, 65, 66, 67, 68, 69],\n",
       "       [70, 71, 72, 73, 74, 75, 76, 77, 78, 79],\n",
       "       [80, 81, 82, 83, 84, 85, 86, 87, 88, 89],\n",
       "       [90, 91, 92, 93, 94, 95, 96, 97, 98, 99]])"
      ]
     },
     "execution_count": 152,
     "metadata": {},
     "output_type": "execute_result"
    }
   ],
   "source": [
    "intMat"
   ]
  },
  {
   "cell_type": "code",
   "execution_count": 153,
   "metadata": {},
   "outputs": [],
   "source": [
    "permIntMat = np.random.shuffle(intMat)"
   ]
  },
  {
   "cell_type": "code",
   "execution_count": 154,
   "metadata": {},
   "outputs": [
    {
     "data": {
      "text/plain": [
       "array([[50, 51, 52, 53, 54, 55, 56, 57, 58, 59],\n",
       "       [70, 71, 72, 73, 74, 75, 76, 77, 78, 79],\n",
       "       [80, 81, 82, 83, 84, 85, 86, 87, 88, 89],\n",
       "       [60, 61, 62, 63, 64, 65, 66, 67, 68, 69],\n",
       "       [30, 31, 32, 33, 34, 35, 36, 37, 38, 39],\n",
       "       [40, 41, 42, 43, 44, 45, 46, 47, 48, 49],\n",
       "       [10, 11, 12, 13, 14, 15, 16, 17, 18, 19],\n",
       "       [90, 91, 92, 93, 94, 95, 96, 97, 98, 99],\n",
       "       [20, 21, 22, 23, 24, 25, 26, 27, 28, 29],\n",
       "       [ 0,  1,  2,  3,  4,  5,  6,  7,  8,  9]])"
      ]
     },
     "execution_count": 154,
     "metadata": {},
     "output_type": "execute_result"
    }
   ],
   "source": [
    "intMat"
   ]
  },
  {
   "cell_type": "code",
   "execution_count": 155,
   "metadata": {},
   "outputs": [],
   "source": [
    "vec = np.random.randint(low=1, high=100, size=10)"
   ]
  },
  {
   "cell_type": "code",
   "execution_count": 156,
   "metadata": {},
   "outputs": [
    {
     "data": {
      "text/plain": [
       "array([26, 67, 52, 67, 79, 18, 56, 52,  7, 27])"
      ]
     },
     "execution_count": 156,
     "metadata": {},
     "output_type": "execute_result"
    }
   ],
   "source": [
    "vec"
   ]
  },
  {
   "cell_type": "code",
   "execution_count": 157,
   "metadata": {},
   "outputs": [],
   "source": [
    "all = np.vstack([intMat,vec])"
   ]
  },
  {
   "cell_type": "code",
   "execution_count": 158,
   "metadata": {},
   "outputs": [
    {
     "data": {
      "text/plain": [
       "array([[50, 51, 52, 53, 54, 55, 56, 57, 58, 59],\n",
       "       [70, 71, 72, 73, 74, 75, 76, 77, 78, 79],\n",
       "       [80, 81, 82, 83, 84, 85, 86, 87, 88, 89],\n",
       "       [60, 61, 62, 63, 64, 65, 66, 67, 68, 69],\n",
       "       [30, 31, 32, 33, 34, 35, 36, 37, 38, 39],\n",
       "       [40, 41, 42, 43, 44, 45, 46, 47, 48, 49],\n",
       "       [10, 11, 12, 13, 14, 15, 16, 17, 18, 19],\n",
       "       [90, 91, 92, 93, 94, 95, 96, 97, 98, 99],\n",
       "       [20, 21, 22, 23, 24, 25, 26, 27, 28, 29],\n",
       "       [ 0,  1,  2,  3,  4,  5,  6,  7,  8,  9],\n",
       "       [26, 67, 52, 67, 79, 18, 56, 52,  7, 27]])"
      ]
     },
     "execution_count": 158,
     "metadata": {},
     "output_type": "execute_result"
    }
   ],
   "source": [
    "all"
   ]
  },
  {
   "cell_type": "markdown",
   "metadata": {},
   "source": [
    "# Q5"
   ]
  },
  {
   "cell_type": "code",
   "execution_count": 163,
   "metadata": {},
   "outputs": [],
   "source": [
    "def min_max_scaling(all):\n",
    "\n",
    "    for col in range(all.shape[1]):\n",
    "\n",
    "        currentColumn = all[:,col]\n",
    "        mini = currentColumn.min()\n",
    "        maxi = currentColumn.max()\n",
    "\n",
    "        print('\\n column:',currentColumn,' min:',mini,' max:',maxi,'\\n')\n",
    "\n",
    "        for rowidx,cell in enumerate(currentColumn):\n",
    "\n",
    "            newValue = (cell-mini)/(maxi-mini)\n",
    "            newValue = round(newValue,3)\n",
    "\n",
    "            print(\"index:\" ,rowidx,col,'\\t  Value:',cell,'new',newValue)\n",
    "\n",
    "            all[rowidx,col] = newValue"
   ]
  },
  {
   "cell_type": "code",
   "execution_count": 164,
   "metadata": {},
   "outputs": [
    {
     "name": "stdout",
     "output_type": "stream",
     "text": [
      "\n",
      " The Scaling matrix is:\n",
      "\n",
      "\n",
      " column: [50 70 80 60 30 40 10 90 20  0 26]  min: 0  max: 90 \n",
      "\n",
      "index: 0 0 \t  Value: 50 new 0.556\n",
      "index: 1 0 \t  Value: 70 new 0.778\n",
      "index: 2 0 \t  Value: 80 new 0.889\n",
      "index: 3 0 \t  Value: 60 new 0.667\n",
      "index: 4 0 \t  Value: 30 new 0.333\n",
      "index: 5 0 \t  Value: 40 new 0.444\n",
      "index: 6 0 \t  Value: 10 new 0.111\n",
      "index: 7 0 \t  Value: 90 new 1.0\n",
      "index: 8 0 \t  Value: 20 new 0.222\n",
      "index: 9 0 \t  Value: 0 new 0.0\n",
      "index: 10 0 \t  Value: 26 new 0.289\n",
      "\n",
      " column: [51 71 81 61 31 41 11 91 21  1 67]  min: 1  max: 91 \n",
      "\n",
      "index: 0 1 \t  Value: 51 new 0.556\n",
      "index: 1 1 \t  Value: 71 new 0.778\n",
      "index: 2 1 \t  Value: 81 new 0.889\n",
      "index: 3 1 \t  Value: 61 new 0.667\n",
      "index: 4 1 \t  Value: 31 new 0.333\n",
      "index: 5 1 \t  Value: 41 new 0.444\n",
      "index: 6 1 \t  Value: 11 new 0.111\n",
      "index: 7 1 \t  Value: 91 new 1.0\n",
      "index: 8 1 \t  Value: 21 new 0.222\n",
      "index: 9 1 \t  Value: 1 new 0.0\n",
      "index: 10 1 \t  Value: 67 new 0.733\n",
      "\n",
      " column: [52 72 82 62 32 42 12 92 22  2 52]  min: 2  max: 92 \n",
      "\n",
      "index: 0 2 \t  Value: 52 new 0.556\n",
      "index: 1 2 \t  Value: 72 new 0.778\n",
      "index: 2 2 \t  Value: 82 new 0.889\n",
      "index: 3 2 \t  Value: 62 new 0.667\n",
      "index: 4 2 \t  Value: 32 new 0.333\n",
      "index: 5 2 \t  Value: 42 new 0.444\n",
      "index: 6 2 \t  Value: 12 new 0.111\n",
      "index: 7 2 \t  Value: 92 new 1.0\n",
      "index: 8 2 \t  Value: 22 new 0.222\n",
      "index: 9 2 \t  Value: 2 new 0.0\n",
      "index: 10 2 \t  Value: 52 new 0.556\n",
      "\n",
      " column: [53 73 83 63 33 43 13 93 23  3 67]  min: 3  max: 93 \n",
      "\n",
      "index: 0 3 \t  Value: 53 new 0.556\n",
      "index: 1 3 \t  Value: 73 new 0.778\n",
      "index: 2 3 \t  Value: 83 new 0.889\n",
      "index: 3 3 \t  Value: 63 new 0.667\n",
      "index: 4 3 \t  Value: 33 new 0.333\n",
      "index: 5 3 \t  Value: 43 new 0.444\n",
      "index: 6 3 \t  Value: 13 new 0.111\n",
      "index: 7 3 \t  Value: 93 new 1.0\n",
      "index: 8 3 \t  Value: 23 new 0.222\n",
      "index: 9 3 \t  Value: 3 new 0.0\n",
      "index: 10 3 \t  Value: 67 new 0.711\n",
      "\n",
      " column: [54 74 84 64 34 44 14 94 24  4 79]  min: 4  max: 94 \n",
      "\n",
      "index: 0 4 \t  Value: 54 new 0.556\n",
      "index: 1 4 \t  Value: 74 new 0.778\n",
      "index: 2 4 \t  Value: 84 new 0.889\n",
      "index: 3 4 \t  Value: 64 new 0.667\n",
      "index: 4 4 \t  Value: 34 new 0.333\n",
      "index: 5 4 \t  Value: 44 new 0.444\n",
      "index: 6 4 \t  Value: 14 new 0.111\n",
      "index: 7 4 \t  Value: 94 new 1.0\n",
      "index: 8 4 \t  Value: 24 new 0.222\n",
      "index: 9 4 \t  Value: 4 new 0.0\n",
      "index: 10 4 \t  Value: 79 new 0.833\n",
      "\n",
      " column: [55 75 85 65 35 45 15 95 25  5 18]  min: 5  max: 95 \n",
      "\n",
      "index: 0 5 \t  Value: 55 new 0.556\n",
      "index: 1 5 \t  Value: 75 new 0.778\n",
      "index: 2 5 \t  Value: 85 new 0.889\n",
      "index: 3 5 \t  Value: 65 new 0.667\n",
      "index: 4 5 \t  Value: 35 new 0.333\n",
      "index: 5 5 \t  Value: 45 new 0.444\n",
      "index: 6 5 \t  Value: 15 new 0.111\n",
      "index: 7 5 \t  Value: 95 new 1.0\n",
      "index: 8 5 \t  Value: 25 new 0.222\n",
      "index: 9 5 \t  Value: 5 new 0.0\n",
      "index: 10 5 \t  Value: 18 new 0.144\n",
      "\n",
      " column: [56 76 86 66 36 46 16 96 26  6 56]  min: 6  max: 96 \n",
      "\n",
      "index: 0 6 \t  Value: 56 new 0.556\n",
      "index: 1 6 \t  Value: 76 new 0.778\n",
      "index: 2 6 \t  Value: 86 new 0.889\n",
      "index: 3 6 \t  Value: 66 new 0.667\n",
      "index: 4 6 \t  Value: 36 new 0.333\n",
      "index: 5 6 \t  Value: 46 new 0.444\n",
      "index: 6 6 \t  Value: 16 new 0.111\n",
      "index: 7 6 \t  Value: 96 new 1.0\n",
      "index: 8 6 \t  Value: 26 new 0.222\n",
      "index: 9 6 \t  Value: 6 new 0.0\n",
      "index: 10 6 \t  Value: 56 new 0.556\n",
      "\n",
      " column: [57 77 87 67 37 47 17 97 27  7 52]  min: 7  max: 97 \n",
      "\n",
      "index: 0 7 \t  Value: 57 new 0.556\n",
      "index: 1 7 \t  Value: 77 new 0.778\n",
      "index: 2 7 \t  Value: 87 new 0.889\n",
      "index: 3 7 \t  Value: 67 new 0.667\n",
      "index: 4 7 \t  Value: 37 new 0.333\n",
      "index: 5 7 \t  Value: 47 new 0.444\n",
      "index: 6 7 \t  Value: 17 new 0.111\n",
      "index: 7 7 \t  Value: 97 new 1.0\n",
      "index: 8 7 \t  Value: 27 new 0.222\n",
      "index: 9 7 \t  Value: 7 new 0.0\n",
      "index: 10 7 \t  Value: 52 new 0.5\n",
      "\n",
      " column: [58 78 88 68 38 48 18 98 28  8  7]  min: 7  max: 98 \n",
      "\n",
      "index: 0 8 \t  Value: 58 new 0.56\n",
      "index: 1 8 \t  Value: 78 new 0.78\n",
      "index: 2 8 \t  Value: 88 new 0.89\n",
      "index: 3 8 \t  Value: 68 new 0.67\n",
      "index: 4 8 \t  Value: 38 new 0.341\n",
      "index: 5 8 \t  Value: 48 new 0.451\n",
      "index: 6 8 \t  Value: 18 new 0.121\n",
      "index: 7 8 \t  Value: 98 new 1.0\n",
      "index: 8 8 \t  Value: 28 new 0.231\n",
      "index: 9 8 \t  Value: 8 new 0.011\n",
      "index: 10 8 \t  Value: 7 new 0.0\n",
      "\n",
      " column: [59 79 89 69 39 49 19 99 29  9 27]  min: 9  max: 99 \n",
      "\n",
      "index: 0 9 \t  Value: 59 new 0.556\n",
      "index: 1 9 \t  Value: 79 new 0.778\n",
      "index: 2 9 \t  Value: 89 new 0.889\n",
      "index: 3 9 \t  Value: 69 new 0.667\n",
      "index: 4 9 \t  Value: 39 new 0.333\n",
      "index: 5 9 \t  Value: 49 new 0.444\n",
      "index: 6 9 \t  Value: 19 new 0.111\n",
      "index: 7 9 \t  Value: 99 new 1.0\n",
      "index: 8 9 \t  Value: 29 new 0.222\n",
      "index: 9 9 \t  Value: 9 new 0.0\n",
      "index: 10 9 \t  Value: 27 new 0.2\n"
     ]
    }
   ],
   "source": [
    "print(\"\\n The Scaling matrix is:\\n\")\n",
    "min_max_scaling(all)"
   ]
  }
 ],
 "metadata": {
  "kernelspec": {
   "display_name": "Python 3",
   "language": "python",
   "name": "python3"
  },
  "language_info": {
   "codemirror_mode": {
    "name": "ipython",
    "version": 3
   },
   "file_extension": ".py",
   "mimetype": "text/x-python",
   "name": "python",
   "nbconvert_exporter": "python",
   "pygments_lexer": "ipython3",
   "version": "3.8.3"
  }
 },
 "nbformat": 4,
 "nbformat_minor": 4
}
